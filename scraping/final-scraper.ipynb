{
 "cells": [
  {
   "cell_type": "markdown",
   "id": "21aa1f0a-4f8d-49b4-8b3b-9af716840f13",
   "metadata": {},
   "source": [
    "# Oscars Best Picture Stats\n",
    "\n",
    "This scraper retrieves five types of ratings (TMDB, Rotten Tomatoes, Letterboxd, IMDB, Metacritic) from four reputable sites for the 97 films awarded an Oscar for Best Picture. \n",
    "\n",
    "It uses nine functions to get URLs, get and return details in lists, and return lists as CSV files."
   ]
  },
  {
   "cell_type": "code",
   "execution_count": 34,
   "id": "1d1dbaee-a34c-4fbb-bb99-d461c3dcea58",
   "metadata": {},
   "outputs": [],
   "source": [
    "from bs4 import BeautifulSoup\n",
    "import requests\n",
    "import time\n",
    "import csv\n",
    "\n",
    "from selenium import webdriver\n",
    "from selenium.webdriver.common.by import By\n",
    "from selenium.webdriver import ActionChains\n",
    "from selenium.webdriver.chrome.service import Service\n",
    "from webdriver_manager.chrome import ChromeDriverManager\n",
    "\n",
    "hdr = {'User-Agent': 'Mozilla/5.0 (Windows NT 10.0; Win64; x64) AppleWebKit/537.36 (KHTML, like Gecko) Chrome/133.0.0.0 Safari/537.36'}"
   ]
  },
  {
   "cell_type": "markdown",
   "id": "23c5ef33-d88d-47be-9f5b-ac83439d4a41",
   "metadata": {},
   "source": [
    "## `get_tmdb_deets(main_url, list_num)`\n",
    "\n",
    "This function grabs film details (title, release year, TMDB score) from one list on a TMDB page and returns them in a list. (No URL for each film was necessary.) A list on TMDB can display only 50 items at a time. By default, the page displays a descending list of films by release year. By altering the URL of the page, the list can also be viewed in ascending order. \n",
    "\n",
    "This function is to be used twice to grab 50 items descending and then 47 items ascending to get all 97 films' details."
   ]
  },
  {
   "cell_type": "code",
   "execution_count": 61,
   "id": "41a93ee7-e0d3-4f21-99ed-134bdab6eda5",
   "metadata": {},
   "outputs": [],
   "source": [
    "def get_tmdb_deets(main_url, list_num):\n",
    "    page = requests.get(main_url, headers=hdr)\n",
    "    soup = BeautifulSoup(page.text, 'html.parser')\n",
    "    time.sleep(2)\n",
    "\n",
    "    list_area = soup.find(class_=\"list_items\")\n",
    "    headings = list_area.find_all(class_=['text-md', 'font-bold', 'text-black', 'cursor-pointer', 'hover:underline', 'underline-offset-2'])\n",
    "\n",
    "    score_divs = soup.find_all(class_=\"user_score_chart\")\n",
    "\n",
    "    release_dates = soup.find_all(class_=\"bg-date-tile\")\n",
    "\n",
    "    titles = []\n",
    "    years = []\n",
    "    scores = []\n",
    "    \n",
    "    # Get titles from 'headings' (ignoring non-titles) and scores from 'score_divs'\n",
    "    # Every other item in 'headings' is the actual title. All others are numbers or non-titles\n",
    "    for i in range(len(headings)):\n",
    "        if i % 2 != 0 and headings[i].text.strip() != \"Load More\" and len(headings[i].text) != 2:\n",
    "            titles.append(headings[i].text)\n",
    "\n",
    "    for release_date in release_dates:\n",
    "        date = release_date.text.strip()\n",
    "        comma = date.find(\",\")\n",
    "        year = date[comma+2:]\n",
    "        years.append(year)\n",
    "\n",
    "    for score_div in score_divs:\n",
    "        score = score_div.attrs['data-percent']\n",
    "        scores.append(score)\n",
    "\n",
    "    # Pair respective title and score with each other into one list\n",
    "    # Append list to final list to be returned\n",
    "    deet_list = []\n",
    "\n",
    "    # Can only grab 50 items at a time, but function gives parameter for how many items to scrape if less than 50 must be scraped\n",
    "    # Decrement so list_num is indexed for loop\n",
    "    for i in range(list_num):\n",
    "        trio = []\n",
    "        trio.append(titles[i])\n",
    "        trio.append(years[i])\n",
    "        trio.append(scores[i])\n",
    "        deet_list.append(trio)\n",
    "\n",
    "    return deet_list"
   ]
  },
  {
   "cell_type": "code",
   "execution_count": 62,
   "id": "242909e8-d4f0-4fec-992b-f37005fe25c4",
   "metadata": {},
   "outputs": [
    {
     "name": "stdout",
     "output_type": "stream",
     "text": [
      "[['Anora', '2024', '71'], ['Oppenheimer', '2023', '81'], ['Everything Everywhere All at Once', '2022', '78'], ['CODA', '2021', '79'], ['Nomadland', '2021', '72'], ['Parasite', '2019', '85'], ['Green Book', '2018', '82'], ['The Shape of Water', '2017', '72'], ['Moonlight', '2016', '74'], ['Spotlight', '2015', '78'], ['Birdman or (The Unexpected Virtue of Ignorance)', '2014', '75'], ['12 Years a Slave', '2013', '79'], ['Argo', '2012', '73'], ['The Artist', '2012', '75'], [\"The King's Speech\", '2010', '77'], ['Slumdog Millionaire', '2008', '77'], ['The Hurt Locker', '2009', '73'], ['No Country for Old Men', '2007', '79'], ['The Departed', '2006', '82'], ['Crash', '2005', '72'], ['Million Dollar Baby', '2004', '80'], ['The Lord of the Rings: The Return of the King', '2003', '85'], ['Chicago', '2002', '71'], ['A Beautiful Mind', '2001', '79'], ['Gladiator', '2000', '82'], ['American Beauty', '1999', '80'], ['Shakespeare in Love', '1998', '69'], ['Titanic', '1997', '79'], ['The English Patient', '1996', '72'], ['Braveheart', '1995', '79'], ['Forrest Gump', '1994', '85'], [\"Schindler's List\", '1993', '86'], ['Unforgiven', '1992', '79'], ['The Silence of the Lambs', '1991', '83'], ['Dances with Wolves', '1990', '78'], ['Driving Miss Daisy', '1989', '72'], ['Rain Man', '1988', '78'], ['The Last Emperor', '1987', '76'], ['Platoon', '1986', '77'], ['Out of Africa', '1985', '72'], ['Amadeus', '1984', '80'], ['Terms of Endearment', '1983', '71'], ['Gandhi', '1982', '76'], ['Chariots of Fire', '1981', '68'], ['Ordinary People', '1980', '75'], ['Kramer vs. Kramer', '1979', '76'], ['The Deer Hunter', '1978', '80'], ['Annie Hall', '1977', '77'], ['Rocky', '1976', '78'], [\"One Flew Over the Cuckoo's Nest\", '1975', '84'], ['The Godfather Part II', '1974', '86'], ['The Sting', '1973', '80'], ['The Godfather', '1972', '87'], ['The French Connection', '1971', '75'], ['Patton', '1970', '75'], ['Midnight Cowboy', '1969', '75'], ['Oliver!', '1968', '70'], ['In the Heat of the Night', '1967', '76'], ['A Man for All Seasons', '1966', '73'], ['The Sound of Music', '1965', '77'], ['My Fair Lady', '1964', '75'], ['Tom Jones', '1963', '59'], ['Lawrence of Arabia', '1962', '80'], ['West Side Story', '1961', '72'], ['The Apartment', '1960', '82'], ['Ben-Hur', '1959', '79'], ['Gigi', '1958', '62'], ['The Bridge on the River Kwai', '1957', '78'], ['Around the World in Eighty Days', '1956', '67'], ['Marty', '1955', '74'], ['On the Waterfront', '1954', '79'], ['From Here to Eternity', '1953', '73'], ['The Greatest Show on Earth', '1952', '63'], ['An American in Paris', '1951', '70'], ['All About Eve', '1950', '81'], [\"All the King's Men\", '1949', '70'], ['Hamlet', '1948', '74'], [\"Gentleman's Agreement\", '1947', '69'], ['The Best Years of Our Lives', '1946', '78'], ['The Lost Weekend', '1945', '76'], ['Going My Way', '1944', '67'], ['Casablanca', '1943', '82'], ['Mrs. Miniver', '1942', '70'], ['How Green Was My Valley', '1941', '73'], ['Rebecca', '1940', '79'], ['Gone with the Wind', '1939', '79'], [\"You Can't Take It with You\", '1938', '75'], ['The Life of Emile Zola', '1937', '67'], ['The Great Ziegfeld', '1936', '62'], ['Mutiny on the Bounty', '1935', '73'], ['It Happened One Night', '1934', '78'], ['Cavalcade', '1933', '55'], ['Grand Hotel', '1932', '69'], ['Cimarron', '1931', '56'], ['All Quiet on the Western Front', '1930', '78'], ['The Broadway Melody', '1929', '52'], ['Wings', '1927', '72']]\n",
      "97\n"
     ]
    }
   ],
   "source": [
    "# Scrape first 50 items\n",
    "url = 'https://www.themoviedb.org/list/8526090-oscars-best-pictures-2025?view=list&sort_by=primary_release_date.desc'\n",
    "top_half_tmdb_list = get_tmdb_deets(url, 50)\n",
    "# URL that reverse sorts TMDB list to show remaining 47 items first\n",
    "url = 'https://www.themoviedb.org/list/8526090-oscars-best-pictures-2025?view=list&sort_by=primary_release_date.asc'\n",
    "bottom_half_tmdb_list = get_tmdb_deets(url, 47)\n",
    "\n",
    "# Glue top_half and bottom_half lists into one list \n",
    "tmdb_list = top_half_tmdb_list\n",
    "for film in reversed(bottom_half_tmdb_list):\n",
    "    tmdb_list.append(film)"
   ]
  },
  {
   "cell_type": "markdown",
   "id": "808ae592-72cd-49d1-9b1b-b476e5467818",
   "metadata": {},
   "source": [
    "## `write_tmdb_csv(my_list)`\n",
    "\n",
    "This function writes the list returned from `get_tmdb_deets()` into a CSV file. The CSV file is to be joined with three other CSV files that are returned in this scraper."
   ]
  },
  {
   "cell_type": "code",
   "execution_count": 64,
   "id": "5ba5d1e5-1598-4c94-a5f4-7ffa1dc154af",
   "metadata": {},
   "outputs": [],
   "source": [
    "def write_tmdb_csv(my_list):\n",
    "    csvfile = open('tmdb.csv', 'w', newline='', encoding='utf-8')\n",
    "    c = csv.writer(csvfile)\n",
    "    \n",
    "    # Write column headings in a row\n",
    "    c.writerow(['title', 'year', 'tmdb_rating'])\n",
    "\n",
    "    \n",
    "    for item in my_list:\n",
    "        c.writerow(item)\n",
    "        \n",
    "    # Close file\n",
    "    csvfile.close()\n",
    "    \n",
    "    # Return None to bypass potential error\n",
    "    return None\n",
    "\n",
    "# Run function to create CSV file\n",
    "write_tmdb_csv(tmdb_list)"
   ]
  },
  {
   "cell_type": "markdown",
   "id": "5c352cbf-53de-465a-8db9-78423ca2563d",
   "metadata": {},
   "source": [
    "## List of Best Picture URLs on Rotten Tomatoes\n",
    "Rotten Tomatoes has no main page to scrape URLs. URLs were manually put into a Python list instead."
   ]
  },
  {
   "cell_type": "code",
   "execution_count": 74,
   "id": "1638449a-b3d0-47f6-ba45-335a5264f841",
   "metadata": {},
   "outputs": [],
   "source": [
    "rt_urls = ['https://www.rottentomatoes.com/m/anora', 'https://www.rottentomatoes.com/m/oppenheimer_2023', \n",
    "           'https://www.rottentomatoes.com/m/everything_everywhere_all_at_once', 'https://www.rottentomatoes.com/m/coda_2021',\n",
    "           'https://www.rottentomatoes.com/m/nomadland', 'https://www.rottentomatoes.com/m/parasite_2019', \n",
    "           'https://www.rottentomatoes.com/m/green_book', 'https://www.rottentomatoes.com/m/the_shape_of_water_2017',\n",
    "           'https://www.rottentomatoes.com/m/moonlight_2016', 'https://www.rottentomatoes.com/m/spotlight_2015',\n",
    "           'https://www.rottentomatoes.com/m/birdman_2014', 'https://www.rottentomatoes.com/m/12_years_a_slave', \n",
    "           'https://www.rottentomatoes.com/m/argo_2012', 'https://www.rottentomatoes.com/m/the_artist', 'https://www.rottentomatoes.com/m/the_kings_speech',\n",
    "           'https://www.rottentomatoes.com/m/the_hurt_locker', 'https://www.rottentomatoes.com/m/slumdog_millionaire',\n",
    "           'https://www.rottentomatoes.com/m/no_country_for_old_men', 'https://www.rottentomatoes.com/m/departed',\n",
    "           'https://www.rottentomatoes.com/m/million_dollar_baby', 'https://www.rottentomatoes.com/m/1144992-crash',\n",
    "           'https://www.rottentomatoes.com/m/the_lord_of_the_rings_the_return_of_the_king', 'https://www.rottentomatoes.com/m/chicago',\n",
    "           'https://www.rottentomatoes.com/m/beautiful_mind', 'https://www.rottentomatoes.com/m/gladiator',\n",
    "           'https://www.rottentomatoes.com/m/american_beauty', 'https://www.rottentomatoes.com/m/shakespeare_in_love',\n",
    "           'https://www.rottentomatoes.com/m/titanic', 'https://www.rottentomatoes.com/m/english_patient', \n",
    "           'https://www.rottentomatoes.com/m/1065684-braveheart', 'https://www.rottentomatoes.com/m/forrest_gump',\n",
    "           'https://www.rottentomatoes.com/m/schindlers_list', 'https://www.rottentomatoes.com/m/1041911-unforgiven',\n",
    "           'https://www.rottentomatoes.com/m/silence_of_the_lambs', 'https://www.rottentomatoes.com/m/dances_with_wolves',\n",
    "           'https://www.rottentomatoes.com/m/driving_miss_daisy', 'https://www.rottentomatoes.com/m/rain_man',\n",
    "           'https://www.rottentomatoes.com/m/last_emperor', 'https://www.rottentomatoes.com/m/platoon',\n",
    "           'https://www.rottentomatoes.com/m/out_of_africa', 'https://www.rottentomatoes.com/m/amadeus',\n",
    "           'https://www.rottentomatoes.com/m/terms_of_endearment', 'https://www.rottentomatoes.com/m/gandhi',\n",
    "           'https://www.rottentomatoes.com/m/chariots_of_fire', 'https://www.rottentomatoes.com/m/ordinary_people',\n",
    "           'https://www.rottentomatoes.com/m/kramer_vs_kramer', 'https://www.rottentomatoes.com/m/the_deer_hunter',\n",
    "           'https://www.rottentomatoes.com/m/annie_hall', 'https://www.rottentomatoes.com/m/1017776-rocky',\n",
    "           'https://www.rottentomatoes.com/m/one_flew_over_the_cuckoos_nest', 'https://www.rottentomatoes.com/m/godfather_part_ii',\n",
    "           'https://www.rottentomatoes.com/m/1020130-sting', 'https://www.rottentomatoes.com/m/the_godfather',\n",
    "           'https://www.rottentomatoes.com/m/french_connection', 'https://www.rottentomatoes.com/m/patton',\n",
    "           'https://www.rottentomatoes.com/m/midnight_cowboy', 'https://www.rottentomatoes.com/m/oliver',\n",
    "           'https://www.rottentomatoes.com/m/in_the_heat_of_the_night', 'https://www.rottentomatoes.com/m/1013162-man_for_all_seasons',\n",
    "           'https://www.rottentomatoes.com/m/sound_of_music', 'https://www.rottentomatoes.com/m/my_fair_lady',\n",
    "           'https://www.rottentomatoes.com/m/tom_jones', 'https://www.rottentomatoes.com/m/lawrence_of_arabia',\n",
    "           'https://www.rottentomatoes.com/m/west_side_story', 'https://www.rottentomatoes.com/m/1001115-apartment',\n",
    "           'https://www.rottentomatoes.com/m/benhur', 'https://www.rottentomatoes.com/m/gigi',\n",
    "           'https://www.rottentomatoes.com/m/bridge_on_the_river_kwai', 'https://www.rottentomatoes.com/m/1001193-around_the_world_in_80_days',\n",
    "           'https://www.rottentomatoes.com/m/1013427-marty', 'https://www.rottentomatoes.com/m/on_the_waterfront',\n",
    "           'https://www.rottentomatoes.com/m/1007931-from_here_to_eternity', 'https://www.rottentomatoes.com/m/greatest_show_on_earth',\n",
    "           'https://www.rottentomatoes.com/m/american_in_paris','https://www.rottentomatoes.com/m/1000626-all_about_eve',\n",
    "           'https://www.rottentomatoes.com/m/1000654-all_the_kings_men', 'https://www.rottentomatoes.com/m/1009123-hamlet',\n",
    "           'https://www.rottentomatoes.com/m/gentlemans_agreement', 'https://www.rottentomatoes.com/m/best_years_of_our_lives',\n",
    "           'https://www.rottentomatoes.com/m/lost_weekend', 'https://www.rottentomatoes.com/m/going_my_way',\n",
    "           'https://www.rottentomatoes.com/m/1003707-casablanca', 'https://www.rottentomatoes.com/m/mrs_miniver',\n",
    "           'https://www.rottentomatoes.com/m/how_green_was_my_valley', 'https://www.rottentomatoes.com/m/1017293-rebecca',\n",
    "           'https://www.rottentomatoes.com/m/gone_with_the_wind', 'https://www.rottentomatoes.com/m/you_cant_take_it_with_you_1938',\n",
    "           'https://www.rottentomatoes.com/m/life_of_emile_zola', 'https://www.rottentomatoes.com/m/the_great_ziegfeld',\n",
    "           'https://www.rottentomatoes.com/m/1014481-mutiny_on_the_bounty', 'https://www.rottentomatoes.com/m/it_happened_one_night',\n",
    "           'https://www.rottentomatoes.com/m/cavalcade', 'https://www.rottentomatoes.com/m/grand_hotel', \n",
    "           'https://www.rottentomatoes.com/m/1004177-cimarron', 'https://www.rottentomatoes.com/m/all_quiet_on_the_western_front',\n",
    "           'https://www.rottentomatoes.com/m/broadway_melody', 'https://www.rottentomatoes.com/m/wings']           "
   ]
  },
  {
   "cell_type": "code",
   "execution_count": null,
   "id": "fc534696-4560-4096-9026-19362a7b56ab",
   "metadata": {},
   "outputs": [],
   "source": []
  },
  {
   "cell_type": "markdown",
   "id": "547486e5-79ea-4ac0-b9cc-d4bb324a6dfd",
   "metadata": {},
   "source": [
    "## `get_rt_deets(movie_url)`\n",
    "\n",
    "This function gets the title and \"Tomatometer\" (Rotten Tomatoes rating) from a film page and returns them, along with the URL to the film page itself, in a list. The function is used in a loop through each of all 97 URLs (film pages), get the details in a list, and append them in a larger list that is to be written into a CSV file."
   ]
  },
  {
   "cell_type": "code",
   "execution_count": 65,
   "id": "ab0a8c26-1e3f-4c6c-bf33-12483d89b04c",
   "metadata": {},
   "outputs": [],
   "source": [
    "def get_rt_deets(movie_url):\n",
    "    page = requests.get(movie_url, headers=hdr)\n",
    "    time.sleep(2)\n",
    "    soup = BeautifulSoup(page.text, 'html.parser')\n",
    "\n",
    "    score_div = soup.find(class_=\"media-scorecard\")\n",
    "    tomatometer = score_div.find('rt-text').text\n",
    "\n",
    "    # Get title for tracking purposes\n",
    "    heading = soup.find(id=\"hero-wrap\")\n",
    "    title = heading.find('rt-button').attrs['data-title']\n",
    "\n",
    "    deet_list = [title, tomatometer, movie_url]\n",
    "\n",
    "    return deet_list"
   ]
  },
  {
   "cell_type": "code",
   "execution_count": 66,
   "id": "caab5159-f5d4-4aab-a7db-57e72df241df",
   "metadata": {},
   "outputs": [],
   "source": [
    "# Create list containing sub-lists for each film and its rating\n",
    "rt_list = []\n",
    "for url in rt_urls:\n",
    "    deets = get_rt_deets(url)\n",
    "    rt_list.append(deets)\n",
    "    time.sleep(1)"
   ]
  },
  {
   "cell_type": "markdown",
   "id": "0f66a7d9-29e2-4854-8251-485806fb800d",
   "metadata": {},
   "source": [
    "## `write_rt_csv(my_list)`\n",
    "\n",
    "This function writes the list that results from using `get_rt_deets()` to get film details for every Rotten Tomatoes film page. The CSV file is to be joined with three other CSV files that are returned in this scraper."
   ]
  },
  {
   "cell_type": "code",
   "execution_count": 67,
   "id": "d3315912-2857-424a-a2f0-53c1b40992a3",
   "metadata": {},
   "outputs": [],
   "source": [
    "def write_rt_csv(my_list):\n",
    "    csvfile = open('tomatometers.csv', 'w', newline='', encoding='utf-8')\n",
    "    c = csv.writer(csvfile)\n",
    "    \n",
    "    # Write column headings in a row\n",
    "    c.writerow(['title', 'tomatometer', 'rt_url'])\n",
    "\n",
    "    \n",
    "    for item in my_list:\n",
    "        c.writerow(item)\n",
    "        \n",
    "    # Close file\n",
    "    csvfile.close()\n",
    "    \n",
    "    # Return None to bypass potential error\n",
    "    return None\n",
    "\n",
    "# Run function to create CSV file\n",
    "write_rt_csv(rt_list)"
   ]
  },
  {
   "cell_type": "markdown",
   "id": "10db2058-12e8-4e61-8f46-c4f9db9a3854",
   "metadata": {},
   "source": [
    "## `get_letterboxd_urls(main_url)`\n",
    "\n",
    "This function grabs the URLs from a page displaying a list of all Oscar Best Pictures' Letterboxd pages and then returns them in a Python list."
   ]
  },
  {
   "cell_type": "code",
   "execution_count": 68,
   "id": "f67d5f59-2509-4c73-b6db-343e424bcc26",
   "metadata": {},
   "outputs": [],
   "source": [
    "def get_letterboxd_urls(main_url):\n",
    "    page = requests.get(main_url, headers=hdr)\n",
    "    soup = BeautifulSoup(page.text, 'html.parser')\n",
    "    url_list = []\n",
    "\n",
    "    # Get posters\n",
    "    posters = soup.find_all(class_=\"poster-container\")\n",
    "    for poster in posters:\n",
    "        time.sleep(1)\n",
    "        poster_div = poster.find('div')\n",
    "        partial_url = poster_div.attrs['data-target-link']\n",
    "        if partial_url != \"\":\n",
    "            url = \"https://letterboxd.com\" + partial_url\n",
    "            url_list.append(url)\n",
    "\n",
    "    return url_list\n",
    "        \n",
    "url = \"https://letterboxd.com/oscars/list/oscar-winning-films-best-picture/\"\n",
    "letterboxd_urls = get_letterboxd_urls(url)"
   ]
  },
  {
   "cell_type": "markdown",
   "id": "f222f4ad-73ad-4101-af7d-1825bfb9c9df",
   "metadata": {},
   "source": [
    "## `get_lb_rating(movie_url)`\n",
    "\n",
    "This function gets the title and Letterboxd rating from a film page and returns them, along with the URL to the film page itself, in a list. The function is used in a loop through each of all 97 URLs (film pages), get the details in a list, and append them in a larger list that is to be written into a CSV file."
   ]
  },
  {
   "cell_type": "code",
   "execution_count": 69,
   "id": "2e7d74b4-0399-4b20-bd6d-00586248869f",
   "metadata": {},
   "outputs": [],
   "source": [
    "def get_lb_rating(movie_url):\n",
    "    driver = webdriver.Chrome(service=Service(ChromeDriverManager().install()))\n",
    "    driver.get(movie_url)\n",
    "    time.sleep(1)\n",
    "    page = driver.page_source\n",
    "    soup = BeautifulSoup(page, \"html.parser\")\n",
    "    trio = []\n",
    "\n",
    "    poster = soup.find(class_=\"film-poster\")\n",
    "    title = poster.attrs['data-film-name']\n",
    "    trio.append(title)\n",
    "    rating = soup.find(\"span\", class_=\"average-rating\").text.strip()\n",
    "    trio.append(rating)\n",
    "    trio.append(movie_url)\n",
    "\n",
    "    # Quit the driver\n",
    "    driver.quit()\n",
    "    \n",
    "    return trio"
   ]
  },
  {
   "cell_type": "code",
   "execution_count": 70,
   "id": "34e0d180-af67-47ee-8071-5ae298c0474a",
   "metadata": {},
   "outputs": [],
   "source": [
    "# Get title and rating for each of all 97 films\n",
    "rating_list = []\n",
    "for letterboxd_url in letterboxd_urls:\n",
    "    rating = get_lb_rating(letterboxd_url)\n",
    "    rating_list.append(rating)"
   ]
  },
  {
   "cell_type": "markdown",
   "id": "72c06ad2-6938-419d-a758-3e32f42f5c20",
   "metadata": {},
   "source": [
    "## `write_lb_csv(my_list)`\n",
    "\n",
    "This function writes the list that results from using `get_lb_rating()` to get film details for every Letterboxd film page. The CSV file is to be joined with three other CSV files that are returned in this scraper."
   ]
  },
  {
   "cell_type": "code",
   "execution_count": 72,
   "id": "659a0e1e-0083-4de7-88c9-68cc7ef89ede",
   "metadata": {},
   "outputs": [],
   "source": [
    "def write_lb_csv(my_list):\n",
    "    csvfile = open('letterboxd.csv', 'w', newline='', encoding='utf-8')\n",
    "    c = csv.writer(csvfile)\n",
    "    \n",
    "    # Write column headings in a row\n",
    "    c.writerow(['title', 'letterboxd_rating', 'lb_url'])\n",
    "\n",
    "    for item in my_list:\n",
    "        c.writerow(item)\n",
    "    # Loop through each list, append Rotten Tomatoes rating\n",
    "    # for item in imdb_list:\n",
    "        #for url in urls:\n",
    "            #rating = get_tomatometer(url)\n",
    "            #item.append(rating)\n",
    "            #time.sleep(1)\n",
    "        #c.writerow(item)\n",
    "        \n",
    "    # Close file\n",
    "    csvfile.close()\n",
    "    \n",
    "    # Return None to bypass potential error\n",
    "    return None\n",
    "\n",
    "# Run function to create CSV file\n",
    "write_lb_csv(rating_list)"
   ]
  },
  {
   "cell_type": "markdown",
   "id": "b1e29b3a-3105-40ee-8332-5a50115d7979",
   "metadata": {},
   "source": [
    "## `get_imdb_deets(my_url)`\n",
    "\n",
    "This function gets the title, directors, IMDB rating, and Metascore (Metacritic rating) for each film from one list on an IMDB page. Each film's details are put into a list that is then appended into one large list. This function returns the large list. "
   ]
  },
  {
   "cell_type": "code",
   "execution_count": 10,
   "id": "5b7edecc-a46d-4181-b96d-aeba58c77a3f",
   "metadata": {},
   "outputs": [],
   "source": [
    "def get_imdb_deets(my_url):\n",
    "    driver = webdriver.Chrome(service=Service(ChromeDriverManager().install()))\n",
    "    driver.get(my_url)\n",
    "    time.sleep(2)\n",
    "    \n",
    "    # IMDB loads only 25 items at a time. Must scroll to bottom to get all 97 items\n",
    "    # Find footer (find_element(): https://selenium-python.readthedocs.io/locating-elements.html)\n",
    "    footer = driver.find_element(By.CLASS_NAME, \"imdb-footer\")\n",
    "    # Scroll to footer (tutorial: https://selenium-python.readthedocs.io/api.html#selenium.webdriver.common.action_chains.ActionChains)\n",
    "    actions = ActionChains(driver)\n",
    "    actions.scroll_to_element(footer)\n",
    "    actions.perform()\n",
    "    \n",
    "    # Now get the page source\n",
    "    page = driver.page_source\n",
    "    soup = BeautifulSoup(page, 'html.parser')\n",
    "\n",
    "    # Get movie section\n",
    "    movie_section = soup.find(class_=\"ipc-metadata-list--base\")\n",
    "\n",
    "    # Get movie summaries\n",
    "    summaries = movie_section.find_all(class_=\"ipc-metadata-list-summary-item\")\n",
    "\n",
    "    # Create a list that is to be returned where each item contains title, plot, director(s), rating, and Metascore from each movie summary\n",
    "    detail_list = []\n",
    "    mini_list = []\n",
    "    for summary in summaries:\n",
    "        time.sleep(2)\n",
    "        # Get and clean title\n",
    "        unclean_title = summary.find(class_=\"ipc-title__text\")\n",
    "        period = unclean_title.text.find(\".\")\n",
    "        title = unclean_title.text[period+2:]\n",
    "       \n",
    "        # Get director(s)\n",
    "        directors = summary.find_all(class_=\"sttd-director-item\")\n",
    "        dir_string = \"\"\n",
    "        # If film has two directors...\n",
    "        if len(directors) == 2:\n",
    "            dir_string = directors[0].text + \", \"\n",
    "            dir_string = dir_string + directors[1].text\n",
    "        else:\n",
    "            dir_string = dir_string + directors[0].text\n",
    "        \n",
    "        # Get IMDB user rating\n",
    "        rating = summary.find(class_=\"ipc-rating-star--rating\").text\n",
    "       \n",
    "        # Get Metascore. Append \"N/A\" if no Metascore is available\n",
    "        try: \n",
    "            metascore = summary.find(class_=\"metacritic-score-box\").text\n",
    "        except: \n",
    "            metascore = \"N/A\"\n",
    "\n",
    "        mini_list = [title, dir_string, rating, metascore]\n",
    "        detail_list.append(mini_list)\n",
    "\n",
    "    # Quit the driver\n",
    "    driver.quit()\n",
    "    \n",
    "    return detail_list\n",
    "    \n",
    "\n",
    "url = \"https://www.imdb.com/list/ls596337274/?sort=release_date%2Cdesc\"\n",
    "imdb_list = get_imdb_deets(url)"
   ]
  },
  {
   "cell_type": "code",
   "execution_count": 11,
   "id": "5c71a8ad-07dd-4c90-a5e7-b5041649157d",
   "metadata": {},
   "outputs": [
    {
     "name": "stdout",
     "output_type": "stream",
     "text": [
      "[['Anora', 'Sean Baker', '7.5', '91'], ['Oppenheimer', 'Christopher Nolan', '8.3', '90'], ['Everything Everywhere All at Once', 'Daniel Kwan, Daniel Scheinert', '7.8', '81'], ['CODA', 'Sian Heder', '8.0', '72'], ['Nomadland', 'Chloé Zhao', '7.3', '87'], ['Parasite', 'Bong Joon Ho', '8.5', '97'], ['Green Book', 'Peter Farrelly', '8.2', '69'], ['The Shape of Water', 'Guillermo del Toro', '7.3', '87'], ['Moonlight', 'Barry Jenkins', '7.4', '99'], ['Spotlight', 'Tom McCarthy', '8.1', '93'], ['Birdman or (The Unexpected Virtue of Ignorance)', 'Alejandro G. Iñárritu', '7.7', '87'], ['12 Years a Slave', 'Steve McQueen', '8.1', '96'], ['Argo', 'Ben Affleck', '7.7', '86'], ['The Artist', 'Michel Hazanavicius', '7.8', '89'], [\"The King's Speech\", 'Tom Hooper', '8.0', '88'], ['The Hurt Locker', 'Kathryn Bigelow', '7.5', '95'], ['Slumdog Millionaire', 'Danny Boyle, Loveleen Tandan', '8.0', '84'], ['No Country for Old Men', 'Ethan Coen, Joel Coen', '8.2', '92'], ['The Departed', 'Martin Scorsese', '8.5', '85'], ['Million Dollar Baby', 'Clint Eastwood', '8.1', '86'], ['Crash', 'Paul Haggis', '7.7', '66'], ['The Lord of the Rings: The Return of the King', 'Peter Jackson', '9.0', '94'], ['Chicago', 'Rob Marshall', '7.2', '81'], ['A Beautiful Mind', 'Ron Howard', '8.2', '72'], ['Gladiator', 'Ridley Scott', '8.5', '67'], ['American Beauty', 'Sam Mendes', '8.3', '84'], ['Shakespeare in Love', 'John Madden', '7.1', '87'], ['Titanic', 'James Cameron', '7.9', '75'], ['The English Patient', 'Anthony Minghella', '7.4', '86'], ['Braveheart', 'Mel Gibson', '8.3', '68'], ['Forrest Gump', 'Robert Zemeckis', '8.8', '82'], [\"Schindler's List\", 'Steven Spielberg', '9.0', '95'], ['Unforgiven', 'Clint Eastwood', '8.2', '85'], ['The Silence of the Lambs', 'Jonathan Demme', '8.6', '86'], ['Dances with Wolves', 'Kevin Costner', '8.0', '72'], ['Driving Miss Daisy', 'Bruce Beresford', '7.3', '81'], ['Rain Man', 'Barry Levinson', '8.0', '65'], ['The Last Emperor', 'Bernardo Bertolucci', '7.7', '76'], ['Platoon', 'Oliver Stone', '8.1', '92'], ['Out of Africa', 'Sydney Pollack', '7.1', '69'], ['Amadeus', 'Milos Forman', '8.4', '87'], ['Terms of Endearment', 'James L. Brooks', '7.4', '79'], ['Gandhi', 'Richard Attenborough', '8.0', '79'], ['Chariots of Fire', 'Hugh Hudson', '7.1', '78'], ['Ordinary People', 'Robert Redford', '7.7', '86'], ['Kramer vs. Kramer', 'Robert Benton', '7.8', '77'], ['The Deer Hunter', 'Michael Cimino', '8.1', '90'], ['Annie Hall', 'Woody Allen', '7.9', '92'], ['Rocky', 'John G. Avildsen', '8.1', '70'], [\"One Flew Over the Cuckoo's Nest\", 'Milos Forman', '8.7', '84'], ['The Godfather Part II', 'Francis Ford Coppola', '9.0', '90'], ['The Sting', 'George Roy Hill', '8.3', '83'], ['The Godfather', 'Francis Ford Coppola', '9.2', '100'], ['The French Connection', 'William Friedkin', '7.7', '94'], ['Patton', 'Franklin J. Schaffner', '7.9', '86'], ['Midnight Cowboy', 'John Schlesinger', '7.8', '79'], ['Oliver!', 'Carol Reed', '7.4', '74'], ['In the Heat of the Night', 'Norman Jewison', '7.9', '76'], ['A Man for All Seasons', 'Fred Zinnemann', '7.7', '72'], ['The Sound of Music', 'Robert Wise', '8.1', '63'], ['My Fair Lady', 'George Cukor', '7.7', '95'], ['Tom Jones', 'Tony Richardson', '6.4', '77'], ['Lawrence of Arabia', 'David Lean', '8.3', '100'], ['West Side Story', 'Jerome Robbins, Robert Wise', '7.6', '86'], ['The Apartment', 'Billy Wilder', '8.3', '94'], ['Ben-Hur', 'William Wyler', '8.1', '90'], ['Gigi', 'Vincente Minnelli, Charles Walters', '6.6', '82'], ['The Bridge on the River Kwai', 'David Lean', '8.1', '88'], ['Around the World in 80 Days', 'Michael Anderson, John Farrow', '6.7', '69'], ['Marty', 'Delbert Mann', '7.7', '82'], ['On the Waterfront', 'Elia Kazan', '8.1', '91'], ['From Here to Eternity', 'Fred Zinnemann', '7.6', '85'], ['The Greatest Show on Earth', 'Cecil B. DeMille', '6.5', '76'], ['An American in Paris', 'Vincente Minnelli', '7.1', '83'], ['All About Eve', 'Joseph L. Mankiewicz', '8.2', '98'], [\"All the King's Men\", 'Robert Rossen', '7.4', 'N/A'], ['Hamlet', 'Laurence Olivier', '7.5', '82'], [\"Gentleman's Agreement\", 'Elia Kazan', '7.2', 'N/A'], ['The Best Years of Our Lives', 'William Wyler', '8.1', '93'], ['The Lost Weekend', 'Billy Wilder', '7.9', 'N/A'], ['Going My Way', 'Leo McCarey', '7.0', '90'], ['Casablanca', 'Michael Curtiz', '8.5', '100'], ['Mrs. Miniver', 'William Wyler', '7.6', '77'], ['How Green Was My Valley', 'John Ford', '7.7', '88'], ['Rebecca', 'Alfred Hitchcock', '8.1', '86'], ['Gone with the Wind', 'Victor Fleming', '8.2', '97'], [\"You Can't Take It with You\", 'Frank Capra', '7.8', 'N/A'], ['The Life of Emile Zola', 'William Dieterle', '7.1', 'N/A'], ['The Great Ziegfeld', 'Robert Z. Leonard', '6.6', '69'], ['Mutiny on the Bounty', 'Frank Lloyd', '7.6', '87'], ['It Happened One Night', 'Frank Capra', '8.1', '87'], ['Cavalcade', 'Frank Lloyd', '5.8', '73'], ['Grand Hotel', 'Edmund Goulding', '7.3', '79'], ['Cimarron', 'Wesley Ruggles', '5.8', '70'], ['All Quiet on the Western Front', 'Lewis Milestone', '8.1', '91'], ['The Broadway Melody', 'Harry Beaumont', '5.5', '66'], ['Wings', \"William A. Wellman, Harry d'Abbadie d'Arrast\", '7.5', '78']]\n"
     ]
    }
   ],
   "source": [
    "print(imdb_list)"
   ]
  },
  {
   "cell_type": "markdown",
   "id": "69c30ac8-10a8-4a52-9d16-366149041939",
   "metadata": {},
   "source": [
    "## `write_imdb_csv(my_list)`\n",
    "\n",
    "This function writes the list returned from `get_imdb_deets()` into a CSV file. The CSV file is to be joined with three other CSV files that are returned in this scraper. "
   ]
  },
  {
   "cell_type": "code",
   "execution_count": 14,
   "id": "02d9ed1f-8b08-40aa-b3ff-f60c3a444c81",
   "metadata": {},
   "outputs": [],
   "source": [
    "def write_imdb_csv(my_list):\n",
    "    csvfile = open('imdb_metacritic.csv', 'w', newline='', encoding='utf-8')\n",
    "    c = csv.writer(csvfile)\n",
    "    \n",
    "    # Write column headings in a row\n",
    "    c.writerow(['title', 'director', 'imdb_rating', 'metascore'])\n",
    "\n",
    "    \n",
    "    for item in my_list:\n",
    "        c.writerow(item)\n",
    "    # Loop through each list, append Rotten Tomatoes rating\n",
    "    # for item in imdb_list:\n",
    "        #for url in urls:\n",
    "            #rating = get_tomatometer(url)\n",
    "            #item.append(rating)\n",
    "            #time.sleep(1)\n",
    "        #c.writerow(item)\n",
    "        \n",
    "    # Close file\n",
    "    csvfile.close()\n",
    "    \n",
    "    # Return None to bypass potential error\n",
    "    return None\n",
    "\n",
    "# Run function to create CSV file\n",
    "write_imdb_csv(imdb_list)"
   ]
  },
  {
   "cell_type": "markdown",
   "id": "ae9811e8-ceda-4a01-a560-9dda701cce9f",
   "metadata": {},
   "source": [
    "# After Using the Scraper\n",
    "\n",
    "The goal of this scraper is to get four CSV files, each containing the ratings from each film site. Titles vary slightly across the sites, so titles are standardized so they can be easily combined. A unique ID is also given to each film row in the joined CSV, which is then used for creating a Flask app. "
   ]
  }
 ],
 "metadata": {
  "kernelspec": {
   "display_name": "Python 3 (ipykernel)",
   "language": "python",
   "name": "python3"
  },
  "language_info": {
   "codemirror_mode": {
    "name": "ipython",
    "version": 3
   },
   "file_extension": ".py",
   "mimetype": "text/x-python",
   "name": "python",
   "nbconvert_exporter": "python",
   "pygments_lexer": "ipython3",
   "version": "3.13.2"
  }
 },
 "nbformat": 4,
 "nbformat_minor": 5
}
